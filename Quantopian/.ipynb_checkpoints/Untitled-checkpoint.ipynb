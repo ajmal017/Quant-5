{
 "cells": [
  {
   "cell_type": "code",
   "execution_count": 1,
   "metadata": {},
   "outputs": [],
   "source": [
    "import backtrader as bt"
   ]
  },
  {
   "cell_type": "code",
   "execution_count": 2,
   "metadata": {},
   "outputs": [],
   "source": [
    "ibstore = bt.stores.IBStore(host='127.0.0.1', port=7496, clientId=35)"
   ]
  },
  {
   "cell_type": "code",
   "execution_count": 3,
   "metadata": {},
   "outputs": [],
   "source": [
    "data = ibstore.getdata(dataname='TWTR')"
   ]
  },
  {
   "cell_type": "code",
   "execution_count": 4,
   "metadata": {},
   "outputs": [],
   "source": [
    "class St(bt.Strategy):\n",
    "    def logdata(self):\n",
    "        txt = []\n",
    "        txt.append('{}'.format(len(self)))\n",
    "           \n",
    "        txt.append('{}'.format(\n",
    "            self.data.datetime.datetime(0).isoformat())\n",
    "        )\n",
    "        txt.append('{:.2f}'.format(self.data.open[0]))\n",
    "        txt.append('{:.2f}'.format(self.data.high[0]))\n",
    "        txt.append('{:.2f}'.format(self.data.low[0]))\n",
    "        txt.append('{:.2f}'.format(self.data.close[0]))\n",
    "        txt.append('{:.2f}'.format(self.data.volume[0]))\n",
    "        print(','.join(txt))\n",
    "    def next(self):\n",
    "        self.logdata()"
   ]
  },
  {
   "cell_type": "code",
   "execution_count": 5,
   "metadata": {},
   "outputs": [
    {
     "data": {
      "text/plain": [
       "0"
      ]
     },
     "execution_count": 5,
     "metadata": {},
     "output_type": "execute_result"
    }
   ],
   "source": [
    "cerebro = bt.Cerebro(stdstats=False)\n",
    "cerebro.resampledata(data, timeframe=bt.TimeFrame.Minutes, compression=2)\n",
    "cerebro.addstrategy(St)"
   ]
  },
  {
   "cell_type": "code",
   "execution_count": 6,
   "metadata": {},
   "outputs": [
    {
     "name": "stdout",
     "output_type": "stream",
     "text": [
      "Server Version: 76\n",
      "TWS Time at connection:20200428 22:56:53 IST\n"
     ]
    },
    {
     "data": {
      "text/plain": [
       "[<__main__.St at 0x7f3c0f8d3a90>]"
      ]
     },
     "execution_count": 6,
     "metadata": {},
     "output_type": "execute_result"
    }
   ],
   "source": [
    "cerebro.run()"
   ]
  }
 ],
 "metadata": {
  "kernelspec": {
   "display_name": "Python 3",
   "language": "python",
   "name": "python3"
  },
  "language_info": {
   "codemirror_mode": {
    "name": "ipython",
    "version": 3
   },
   "file_extension": ".py",
   "mimetype": "text/x-python",
   "name": "python",
   "nbconvert_exporter": "python",
   "pygments_lexer": "ipython3",
   "version": "3.7.7"
  }
 },
 "nbformat": 4,
 "nbformat_minor": 4
}
