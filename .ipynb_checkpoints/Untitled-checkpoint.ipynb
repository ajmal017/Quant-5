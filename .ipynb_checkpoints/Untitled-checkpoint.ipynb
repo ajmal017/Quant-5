{
 "cells": [
  {
   "cell_type": "code",
   "execution_count": 7,
   "metadata": {},
   "outputs": [],
   "source": [
    "from __future__ import (absolute_import, division, print_function,\n",
    "                        unicode_literals)\n",
    "import backtrader as bt\n",
    "\n",
    "import datetime\n",
    "\n",
    "import csv"
   ]
  },
  {
   "cell_type": "code",
   "execution_count": 8,
   "metadata": {},
   "outputs": [
    {
     "name": "stdout",
     "output_type": "stream",
     "text": [
      "Made: Stratedgy\n"
     ]
    }
   ],
   "source": [
    "class St(bt.Strategy):\n",
    "    \n",
    "    def __init__(self):\n",
    "        self.dataclose=self.datas[0].close\n",
    "        csvfile = open('bt_data', 'w')\n",
    "        writer = csv.writer(csvfile, delimiter=',', quotechar='|', quoting=csv.QUOTE_MINIMAL)\n",
    "        self.writer = writer\n",
    "        print(\"Running: init\")\n",
    "    \n",
    "\n",
    "    def logdata(self):\n",
    "        txt = []\n",
    "\n",
    "        txt.append('{}'.format(\n",
    "            self.data.datetime.datetime(0).isoformat())\n",
    "        )\n",
    "        txt.append('{:.2f}'.format(self.data.open[0]))\n",
    "        txt.append('{:.2f}'.format(self.data.high[0]))\n",
    "        txt.append('{:.2f}'.format(self.data.low[0]))\n",
    "        txt.append('{:.2f}'.format(self.data.close[0]))\n",
    "        txt.append('{:.2f}'.format(self.data.volume[0]))\n",
    "        print(txt)\n",
    "        self.writer.writerow(txt)\n",
    "\n",
    "        print(\"Running: Log\")\n",
    "    \n",
    "    \n",
    "    def next(self):\n",
    "        self.logdata()\n",
    "        print(\"Running: next\")\n",
    "    \n",
    "\n",
    "    print(\"Made: Stratedgy\")"
   ]
  },
  {
   "cell_type": "code",
   "execution_count": 9,
   "metadata": {},
   "outputs": [],
   "source": [
    "    \n",
    "def run(stk_name,from_date, to_date):\n",
    "    brain=bt.Cerebro(stdstats=False, live=False, preload=False)\n",
    "    ibstore = bt.stores.IBStore(host='127.0.0.1', port=7496, clientId=35,_debug=True)\n",
    "    data = ibstore.getdata(\n",
    "        dataname=str(stk_name)+'-STK-NSE-INR',\n",
    "        timeframe=bt.TimeFrame.Minutes,\n",
    "        fromdate=from_date,\n",
    "        todate=to_date,\n",
    "        historical=True\n",
    "        )\n",
    "    print(\"Created: Data\")\n",
    "    brain.adddata(data)\n",
    "    print(\"Added: Data\")\n",
    "\n",
    "    brain.addstrategy(St)\n",
    "    print(\"Added: Stratedgy\")\n",
    "\n",
    "\n",
    "    brain.run()\n",
    "    print(\"Completed: Run\")\n",
    "    "
   ]
  },
  {
   "cell_type": "code",
   "execution_count": 10,
   "metadata": {
    "scrolled": true
   },
   "outputs": [],
   "source": [
    "if __name__=='__main__':\n",
    "    from_date=datetime.datetime(2020,8,1)\n",
    "    to_date=datetime.datetime(2020,8,20)\n"
   ]
  }
 ],
 "metadata": {
  "kernelspec": {
   "display_name": "Python 3",
   "language": "python",
   "name": "python3"
  },
  "language_info": {
   "codemirror_mode": {
    "name": "ipython",
    "version": 3
   },
   "file_extension": ".py",
   "mimetype": "text/x-python",
   "name": "python",
   "nbconvert_exporter": "python",
   "pygments_lexer": "ipython3",
   "version": "3.7.6"
  }
 },
 "nbformat": 4,
 "nbformat_minor": 4
}
