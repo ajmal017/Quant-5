{
 "cells": [
  {
   "cell_type": "markdown",
   "metadata": {},
   "source": [
    "## Part 1"
   ]
  },
  {
   "cell_type": "markdown",
   "metadata": {},
   "source": [
    "## Part 2"
   ]
  },
  {
   "cell_type": "code",
   "execution_count": null,
   "metadata": {},
   "outputs": [
    {
     "name": "stdout",
     "output_type": "stream",
     "text": [
      "<backtrader.stores.ibstore.IBStore object at 0x7f31a74a2610>\n",
      "Before: 10000.0\n",
      "Server Version: 76\n",
      "TWS Time at connection:20201018 17:04:25 India Standard Time\n"
     ]
    }
   ],
   "source": [
    "from __future__ import (absolute_import, division, print_function,\n",
    "                        unicode_literals)\n",
    "import backtrader as bt\n",
    "\n",
    "\n",
    "import datetime\n",
    "import os.path\n",
    "import sys\n",
    "\n",
    "\n",
    "if __name__=='__main__':\n",
    "    brain=bt.Cerebro()\n",
    "    \n",
    "    \n",
    "    start_Date=datetime.datetime(2020,1,1)\n",
    "    end_Date=datetime.datetime(2020,9,30)\n",
    "    \n",
    "    bt.stores.IBStore(host='127.0.0.1', port=7496, clientId=35)\n",
    "    ibstore = bt.stores.IBStore(host='127.0.0.1', port=7496, clientId=35)\n",
    "    data = ibstore.getdata(dataname='EUR.USD-CASH-IDEALPRO')\n",
    "    brain.adddata(data)\n",
    "    \n",
    "    print(\"Before:\",brain.broker.getvalue())\n",
    "    brain.run()\n",
    "    print(\"After:\",brain.broker.getvalue())\n",
    "    "
   ]
  },
  {
   "cell_type": "code",
   "execution_count": null,
   "metadata": {},
   "outputs": [],
   "source": []
  },
  {
   "cell_type": "code",
   "execution_count": null,
   "metadata": {},
   "outputs": [],
   "source": []
  },
  {
   "cell_type": "code",
   "execution_count": null,
   "metadata": {},
   "outputs": [],
   "source": []
  }
 ],
 "metadata": {
  "kernelspec": {
   "display_name": "Python 3",
   "language": "python",
   "name": "python3"
  },
  "language_info": {
   "codemirror_mode": {
    "name": "ipython",
    "version": 3
   },
   "file_extension": ".py",
   "mimetype": "text/x-python",
   "name": "python",
   "nbconvert_exporter": "python",
   "pygments_lexer": "ipython3",
   "version": "3.7.6"
  }
 },
 "nbformat": 4,
 "nbformat_minor": 4
}
